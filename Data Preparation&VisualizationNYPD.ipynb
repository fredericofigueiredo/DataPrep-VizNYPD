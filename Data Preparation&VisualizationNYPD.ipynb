{
 "cells": [
  {
   "cell_type": "markdown",
   "metadata": {
    "deletable": false,
    "editable": false,
    "nbgrader": {
     "cell_type": "markdown",
     "checksum": "c00172768b15c139efa24b89a2257795",
     "grade": false,
     "grade_id": "cell-aad0d9693d861220",
     "locked": true,
     "schema_version": 3,
     "solution": false,
     "task": false
    }
   },
   "source": [
    "# Assignment 3\n",
    "\n",
    "This notebook contains a set of exercises that will guide you through the different steps of this assignment. The aim of this assignment is to donwload and inspect the Stop, Question and Frisk Data released by the New York Police Department every year.\n",
    "\n",
    "<div class=\"alert alert-danger\"><b>Submission deadline:</b> Thursday, December 17, 20:00</div>\n",
    "\n",
    "### Instructions\n",
    "\n",
    "Read carefully the following instructions before starting the exercises.\n",
    "\n",
    "- This notebook is automatically graded. This means that there are several cells embedded into the notebook that take care of checking your code and grading it. It also means that it is important **to follow the instructions for each of the exercises** to make sure that you do everything right.\n",
    "\n",
    "- Write your code in the dedicated cells. You can use as many cells as you like. Just make sure to include all the necessary code **before the corresponding test**.\n",
    "\n",
    "- The tests for the introductory exercises will be open for you to see. This will help you understand how the pipeline works and check that you got the basics right. You can run these checks as many times as you want, **as long as you don't modify them**.  \n",
    "\n",
    "- The tests for the graded exercises will remain hidden. It is important that you **do not write any code, nor do you remove the cells left in blank** for this purpose. \n",
    "\n",
    "- Remember that tests look for specific variable and objects. This means that in order to receive the points for each exercise, you need to **create those objects**.\n",
    "\n",
    "Before moving on, please run the following cell. You only need run it once in order to install the ```nose``` library."
   ]
  },
  {
   "cell_type": "code",
   "execution_count": 1,
   "metadata": {},
   "outputs": [
    {
     "name": "stdout",
     "output_type": "stream",
     "text": [
      "Requirement already satisfied: nose in c:\\users\\asus\\anaconda3\\lib\\site-packages (1.3.7)\n",
      "Note: you may need to restart the kernel to use updated packages.\n"
     ]
    }
   ],
   "source": [
    "pip install nose"
   ]
  },
  {
   "cell_type": "markdown",
   "metadata": {
    "deletable": false,
    "editable": false,
    "nbgrader": {
     "cell_type": "markdown",
     "checksum": "e4e57d7d5f7b31a9f906f2993b62595a",
     "grade": false,
     "grade_id": "cell-23891916bea649cb",
     "locked": true,
     "schema_version": 3,
     "solution": false,
     "task": false
    }
   },
   "source": [
    "## Some background\n",
    "\n",
    "The stop-question-and-frisk program, or stop-and-frisk, in New York City, is a New York City Police Department practice of temporarily detaining, questioning, and at times searching civilians and suspects on the street for weapons and other contraband. This policy allowed police officers to stop, interrogate and search New York City citizens on the sole basis of “reasonable suspicion” for several years.\n",
    "\n",
    "The stop-question-and-frisk program exploded into a national controversy during the mayoral administration of Michael Bloomberg, as the number of NYPD stops each year grew to hundreds of thousands. Most of the people stopped were black and Latino, and nearly all were innocent. \n",
    "\n",
    "<img src='https://www.dropbox.com/s/uo6rj86eqvnusfy/stopandfrisk.png?raw=1' width=700>\n",
    "\n",
    "In 1999, Blacks and Latinos made up 50 percent of New York’s population, but accounted for 84 percent of the city’s stops. Those statistics changed little in the following decade. Between 2004 and 2012, the New York Police Department made 4.4 million stops under the citywide policy. More than 80 percent of those stopped were Black and Latino people. The likelihood that a stopped African-American New Yorker yielded a weapon was half that of White New Yorkers stopped, and the likelihood of finding contraband on an African American who was stopped was one-third that of White New Yorkers stopped.\n",
    "\n",
    "Stop-and-frisk peaked in 2011, when NYPD officers reported making nearly 700,000 stops.\n",
    "\n",
    "In 2013, a federal judge found the New York City Police Department’s “Stop-and-Frisk” policy unconstitutional and ruled that NYPD’s stop-and-frisk tactics violate the U.S Constitution’s 4th Amendment prohibition of unreasonable searches and seizures.\n",
    "\n",
    "## Getting started\n",
    "\n",
    "Let's begin by taking a look at the data. You can also download it from this [link](https://urledu-my.sharepoint.com/:f:/g/personal/irene_unceta_esade_edu/EltmA-P6QQJGgD9mMR4aGsYBkyvgF43eqXdjLmgyCtFCLA?e=5xfirN).\n",
    "\n",
    "Raw data records from the NYPD Stop, Question, and Frisk database are available for download at the following [link](https://www1.nyc.gov/site/nypd/stats/reports-analysis/stopfrisk.page). In this assignmnet we are going to use the data for the years 2003 through 2013. The corresponding databases have already been downloaded and prepared for you and are included into the same zip container where this notebook is located. \n",
    "\n",
    "<div class=\"alert alert-warning\">Before moving on, check that files <i>2003.csv</i>, <i>2004.csv</i>, <i>2005.csv</i>, <i>2006.csv</i>, <i>2007.csv</i>, <i>2008.csv</i>, <i>2009.csv</i>, <i>2010.csv</i>, <i>2011.csv</i>, <i>2012.csv</i> and <i>2013.csv</i> are included in the folder you downloaded from moodle.</div>\n",
    "\n",
    "In addition to the above, two additional files have also been included in the same folder:\n",
    "\n",
    "- The file called <i>legend.xlsx</i> contains code books for all the variables listed for the different years.\n",
    "- The file called <i>precincts.csv</i> contains information about how the different police precincts that appear in the police records above are classified into boroughs.\n",
    "\n",
    "<div class=\"alert alert-warning\">Before moving on, check that files <i>legend.xlsx</i> and <i>precincts.csv</i> are included in the folder you downloaded from moodle.</div>\n",
    "\n",
    "Remember that in order to work with these files, there are certain things that you need to consider:\n",
    "\n",
    "- If you are using Conda or any other Desktop app to run your code, make sure you save the data to the same folder where this notebook is located or, alternatively, that you identify the path to the directory where the files are located.\n",
    "\n",
    "- If you are using Colab, you'll need to upload all the files separately. You can either store them in a dedicated Drive folder, and then access them using the path to that folder, or upload them directly to the file folder in your working notebook. Remember that you can copy the path for any given file in Colab by right clicking on top of it and selecting \"copy path\".\n",
    "\n",
    "## Importing the data\n",
    "\n",
    "Once you are done downloading the databases and checking that everything is in order, let's begin by importing the stop-and-frisk data.\n",
    "\n",
    "<div class=\"alert alert-info\"><b>Exercise 1 </b>Write the code to read the data for each of the years and concatenate them all in a single DataFrame called <i>df</i>. This DataFrame should contain the data for the years 2003 through 2013 and the whole set of columns.</div>\n",
    "\n",
    "<div class=\"alert alert-warning\">When importing some of the files, you may get a warning stating that certain columns have mixed types. You can just ignore it. If it gets very annoying, set the <i>low_memory</i> parameter to False when reading the data. Note that as a consequence, it might take a bit longer to import all the data.</div>"
   ]
  },
  {
   "cell_type": "code",
   "execution_count": 2,
   "metadata": {
    "deletable": false,
    "nbgrader": {
     "cell_type": "code",
     "checksum": "efc4bcd719937afa2f831aa10bb16378",
     "grade": false,
     "grade_id": "cell-f9e30743663e4db6",
     "locked": false,
     "schema_version": 3,
     "solution": true,
     "task": false
    }
   },
   "outputs": [
    {
     "name": "stderr",
     "output_type": "stream",
     "text": [
      "C:\\Users\\Asus\\anaconda3\\lib\\site-packages\\IPython\\core\\interactiveshell.py:3146: DtypeWarning: Columns (80,81,82,83,84) have mixed types.Specify dtype option on import or set low_memory=False.\n",
      "  has_raised = await self.run_ast_nodes(code_ast.body, cell_name,\n",
      "C:\\Users\\Asus\\anaconda3\\lib\\site-packages\\IPython\\core\\interactiveshell.py:3146: DtypeWarning: Columns (4) have mixed types.Specify dtype option on import or set low_memory=False.\n",
      "  has_raised = await self.run_ast_nodes(code_ast.body, cell_name,\n",
      "C:\\Users\\Asus\\anaconda3\\lib\\site-packages\\IPython\\core\\interactiveshell.py:3146: DtypeWarning: Columns (72,73,80,81,82,83,84) have mixed types.Specify dtype option on import or set low_memory=False.\n",
      "  has_raised = await self.run_ast_nodes(code_ast.body, cell_name,\n",
      "C:\\Users\\Asus\\anaconda3\\lib\\site-packages\\IPython\\core\\interactiveshell.py:3146: DtypeWarning: Columns (72,73,96) have mixed types.Specify dtype option on import or set low_memory=False.\n",
      "  has_raised = await self.run_ast_nodes(code_ast.body, cell_name,\n",
      "C:\\Users\\Asus\\anaconda3\\lib\\site-packages\\IPython\\core\\interactiveshell.py:3146: DtypeWarning: Columns (4,72,73,80,81,82,83,84) have mixed types.Specify dtype option on import or set low_memory=False.\n",
      "  has_raised = await self.run_ast_nodes(code_ast.body, cell_name,\n",
      "C:\\Users\\Asus\\anaconda3\\lib\\site-packages\\IPython\\core\\interactiveshell.py:3146: DtypeWarning: Columns (4,72,73) have mixed types.Specify dtype option on import or set low_memory=False.\n",
      "  has_raised = await self.run_ast_nodes(code_ast.body, cell_name,\n",
      "C:\\Users\\Asus\\anaconda3\\lib\\site-packages\\IPython\\core\\interactiveshell.py:3146: DtypeWarning: Columns (72) have mixed types.Specify dtype option on import or set low_memory=False.\n",
      "  has_raised = await self.run_ast_nodes(code_ast.body, cell_name,\n",
      "C:\\Users\\Asus\\anaconda3\\lib\\site-packages\\IPython\\core\\interactiveshell.py:3146: DtypeWarning: Columns (72,73) have mixed types.Specify dtype option on import or set low_memory=False.\n",
      "  has_raised = await self.run_ast_nodes(code_ast.body, cell_name,\n",
      "C:\\Users\\Asus\\anaconda3\\lib\\site-packages\\IPython\\core\\interactiveshell.py:3146: DtypeWarning: Columns (9,72) have mixed types.Specify dtype option on import or set low_memory=False.\n",
      "  has_raised = await self.run_ast_nodes(code_ast.body, cell_name,\n",
      "C:\\Users\\Asus\\anaconda3\\lib\\site-packages\\IPython\\core\\interactiveshell.py:3146: DtypeWarning: Columns (9,72,81) have mixed types.Specify dtype option on import or set low_memory=False.\n",
      "  has_raised = await self.run_ast_nodes(code_ast.body, cell_name,\n"
     ]
    }
   ],
   "source": [
    "# YOUR CODE HERE\n",
    "import pandas as pd\n",
    "\n",
    "nypd_2003=pd.read_csv('2003.csv')\n",
    "nypd_2004=pd.read_csv('2004.csv')\n",
    "nypd_2005=pd.read_csv('2005.csv')\n",
    "nypd_2006=pd.read_csv('2006.csv')\n",
    "nypd_2007=pd.read_csv('2007.csv')\n",
    "nypd_2008=pd.read_csv('2008.csv')\n",
    "nypd_2009=pd.read_csv('2009.csv')\n",
    "nypd_2010=pd.read_csv('2010.csv')\n",
    "nypd_2011=pd.read_csv('2011.csv')\n",
    "nypd_2012=pd.read_csv('2012.csv')\n",
    "nypd_2013=pd.read_csv('2013.csv')"
   ]
  },
  {
   "cell_type": "code",
   "execution_count": 89,
   "metadata": {},
   "outputs": [],
   "source": [
    "df=pd.concat([nypd_2003, \n",
    "              nypd_2004, \n",
    "              nypd_2005, \n",
    "              nypd_2006, \n",
    "              nypd_2007, \n",
    "              nypd_2008, \n",
    "              nypd_2009, \n",
    "              nypd_2010, \n",
    "              nypd_2011, \n",
    "              nypd_2012,\n",
    "              nypd_2013\n",
    "             ])"
   ]
  },
  {
   "cell_type": "markdown",
   "metadata": {
    "deletable": false,
    "editable": false,
    "nbgrader": {
     "cell_type": "markdown",
     "checksum": "b35c404d635c69ea1cdbeccb7b88b702",
     "grade": false,
     "grade_id": "cell-9c4f20f922254e6f",
     "locked": true,
     "schema_version": 3,
     "solution": false,
     "task": false
    }
   },
   "source": [
    "The following cell runs additional checks to your code. Please **don't write any code here**. Just leave it as it is."
   ]
  },
  {
   "cell_type": "code",
   "execution_count": 5,
   "metadata": {
    "deletable": false,
    "editable": false,
    "nbgrader": {
     "cell_type": "code",
     "checksum": "e52961c338104f1be8aae967283b2ca4",
     "grade": true,
     "grade_id": "cell-ed3b06b79b3528c0",
     "locked": true,
     "points": 0.5,
     "schema_version": 3,
     "solution": false,
     "task": false
    }
   },
   "outputs": [],
   "source": [
    "# LEAVE BLANK"
   ]
  },
  {
   "cell_type": "markdown",
   "metadata": {
    "deletable": false,
    "editable": false,
    "nbgrader": {
     "cell_type": "markdown",
     "checksum": "c3a799925bd6509660a4ccabfac4c4b8",
     "grade": false,
     "grade_id": "cell-11a12c70d33484ad",
     "locked": true,
     "schema_version": 3,
     "solution": false,
     "task": false
    }
   },
   "source": [
    "The dabases contain information about a very long series of items. Here, we are only going to focus on some of them. Since our DataFrame is so big that it may already be slowing down your computer, let's remove those columns that we are not going to use.\n",
    "\n",
    "The list shown below contains the information we are interesting in, meaning the columns that you should retain."
   ]
  },
  {
   "cell_type": "code",
   "execution_count": 90,
   "metadata": {},
   "outputs": [],
   "source": [
    "information = [\"YEAR OF STOP (CCYY)\", \"PRECINCT OF STOP (FROM 1 TO 123)\", \"WAS AN ARREST MADE ?\", \n",
    "               \"WAS A SUMMONS ISSUED ?\", \"WAS A PISTOL FOUND ON SUSPECT ?\", \"WAS A RIFLE FOUND ON SUSPECT ?\", \n",
    "               \"WAS AN ASSAULT WEAPON FOUND ON SUSPECT ?\", \"WAS A KNIFE OR CUTTING INSTRUMENT FOUND ON SUSPECT ?\",\n",
    "               \"WAS A MACHINE GUN FOUND ON SUSPECT ?\",\"WAS ANOTHER TYPE OF WEAPON FOUND ON SUSPECT\", \n",
    "               \"PHYSICAL FORCE USED BY OFFICER - HANDS\", \"PHYSICAL FORCE USED BY OFFICER - SUSPECT AGAINST WALL\",\n",
    "               \"PHYSICAL FORCE USED BY OFFICER - SUSPECT ON GROUND\", \"PHYSICAL FORCE USED BY OFFICER - WEAPON DRAWN\",\n",
    "               \"PHYSICAL FORCE USED BY OFFICER - WEAPON POINTED\", \"PHYSICAL FORCE USED BY OFFICER - BATON\",\n",
    "               \"PHYSICAL FORCE USED BY OFFICER - HANDCUFFS\", \"PHYSICAL FORCE USED BY OFFICER - PEPPER SPRAY\",\n",
    "               \"PHYSICAL FORCE USED BY OFFICER - OTHER\", \"SUSPECT'S RACE\"]"
   ]
  },
  {
   "cell_type": "code",
   "execution_count": 5,
   "metadata": {},
   "outputs": [
    {
     "data": {
      "text/plain": [
       "0                   YEAR OF STOP (CCYY)\n",
       "1      PRECINCT OF STOP (FROM 1 TO 123)\n",
       "2                   UF250 SERIAL NUMBER\n",
       "3             DATE OF STOP (MM-DD-YYYY)\n",
       "4                  TIME OF STOP (HH:MM)\n",
       "                     ...               \n",
       "106            LOCATION OF STOP X COORD\n",
       "107            LOCATION OF STOP Y COORD\n",
       "108                  DETAILS TYPES CODE\n",
       "109         COUNT >1 ADDITIONAL DETAILS\n",
       "110              CRIME CODE DESCRIPTION\n",
       "Name: Label, Length: 111, dtype: object"
      ]
     },
     "execution_count": 5,
     "metadata": {},
     "output_type": "execute_result"
    }
   ],
   "source": [
    "legends = pd.read_excel('legend.xlsx')\n",
    "legends['Label']"
   ]
  },
  {
   "cell_type": "markdown",
   "metadata": {
    "deletable": false,
    "editable": false,
    "nbgrader": {
     "cell_type": "markdown",
     "checksum": "0fea6f9753d23766c557b46e1a5b2e39",
     "grade": false,
     "grade_id": "cell-8de26a449a6059a7",
     "locked": true,
     "schema_version": 3,
     "solution": false,
     "task": false
    }
   },
   "source": [
    "<div class=\"alert alert-info\"><b>Exercise 2 </b>Write the code to identify the columns that contain the information above and remove all the other columns from your <i>df</i> DataFrame. Don't modify neither the name of the Dataframe nor any of the column names when doing so.</div>"
   ]
  },
  {
   "cell_type": "code",
   "execution_count": 91,
   "metadata": {
    "deletable": false,
    "nbgrader": {
     "cell_type": "code",
     "checksum": "d6e86f11bc9b5b1ffb5c34ea4e177951",
     "grade": false,
     "grade_id": "cell-98886756073be944",
     "locked": false,
     "schema_version": 3,
     "solution": true,
     "task": false
    },
    "scrolled": true
   },
   "outputs": [],
   "source": [
    "# YOUR CODE HERE\n",
    "\n",
    "variables_to_stay=[]\n",
    "\n",
    "for label in information:\n",
    "    variables_to_stay.append(list(legends[legends['Label']==label]['Variable'])[0])"
   ]
  },
  {
   "cell_type": "code",
   "execution_count": 92,
   "metadata": {},
   "outputs": [],
   "source": [
    "df = df[variables_to_stay]"
   ]
  },
  {
   "cell_type": "markdown",
   "metadata": {
    "deletable": false,
    "editable": false,
    "nbgrader": {
     "cell_type": "markdown",
     "checksum": "f1f6729b138827214e1590facf5f669d",
     "grade": false,
     "grade_id": "cell-c43b10bf79be9613",
     "locked": true,
     "schema_version": 3,
     "solution": false,
     "task": false
    }
   },
   "source": [
    "The following cell runs additional checks to your code. Please **don't write any code here**. Just leave it as it is."
   ]
  },
  {
   "cell_type": "code",
   "execution_count": 12,
   "metadata": {
    "deletable": false,
    "editable": false,
    "nbgrader": {
     "cell_type": "code",
     "checksum": "db06c2da77f13f6da2e556468b56f410",
     "grade": true,
     "grade_id": "cell-f104722f74749909",
     "locked": true,
     "points": 0.5,
     "schema_version": 3,
     "solution": false,
     "task": false
    }
   },
   "outputs": [],
   "source": [
    "# LEAVE BLANK"
   ]
  },
  {
   "cell_type": "markdown",
   "metadata": {
    "deletable": false,
    "editable": false,
    "nbgrader": {
     "cell_type": "markdown",
     "checksum": "85bb98031553bdfb6ed26108380dee8e",
     "grade": false,
     "grade_id": "cell-d9e35ea97e94a55f",
     "locked": true,
     "schema_version": 3,
     "solution": false,
     "task": false
    }
   },
   "source": [
    "The following exercises will guide you to prepare the data first and then to visualize them. Make sure **not to modify** the name of your DataFrame from now on. \n",
    "\n",
    "## Pre-processing the data\n",
    "\n",
    "Since there are too many different precincts for us to make sense of these data, let's add in the information about the boroughs in order to identify where the different stops took place.\n",
    "\n",
    "<div class=\"alert alert-info\"><b>Exercise 3 </b>Write the code to create a new column called <i>boro</i>. This column should contain the name of the borough that corresponds to the precinct of each entry in your <i>df</i> DataFrame. By the end of this exercise only the <i> boro</i> column should be added to <i>df</i>.</div>\n",
    "\n",
    "<div class=\"alert alert-warning\">Make sure that the number of rows doesn't get modified after completing this exercise.</div>"
   ]
  },
  {
   "cell_type": "code",
   "execution_count": 8,
   "metadata": {},
   "outputs": [],
   "source": [
    "precincts = pd.read_csv('precincts.csv')"
   ]
  },
  {
   "cell_type": "code",
   "execution_count": 9,
   "metadata": {},
   "outputs": [],
   "source": [
    "precinctnypd=list(df.pct)"
   ]
  },
  {
   "cell_type": "code",
   "execution_count": 93,
   "metadata": {
    "deletable": false,
    "nbgrader": {
     "cell_type": "code",
     "checksum": "ab9c49bbff217cfcd1fbcb9707d8819a",
     "grade": false,
     "grade_id": "cell-790e47ed14d5a38b",
     "locked": false,
     "schema_version": 3,
     "solution": true,
     "task": false
    }
   },
   "outputs": [],
   "source": [
    "# YOUR CODE HERE\n",
    "boro = []\n",
    "\n",
    "for pct in precinctnypd:\n",
    "    if pct < 35:\n",
    "        boro.append('Manhattan')\n",
    "    elif pct < 53 and pct > 35:\n",
    "        boro.append('Bronx')\n",
    "    elif pct < 95 and pct > 53:\n",
    "        boro.append('Brooklyn')\n",
    "    elif pct < 116 and pct > 95:\n",
    "        boro.append('Queens')\n",
    "    elif pct > 116:\n",
    "        boro.append('Staten Island')\n"
   ]
  },
  {
   "cell_type": "code",
   "execution_count": 94,
   "metadata": {},
   "outputs": [],
   "source": [
    "#df['boro']=boro\n",
    "df.loc[:,'boro'] = boro"
   ]
  },
  {
   "cell_type": "markdown",
   "metadata": {
    "deletable": false,
    "editable": false,
    "nbgrader": {
     "cell_type": "markdown",
     "checksum": "4409dd8802ff3cfd0a5ba6c9dcfb9ee6",
     "grade": false,
     "grade_id": "cll-c43b10bf79be9613",
     "locked": true,
     "schema_version": 3,
     "solution": false,
     "task": false
    }
   },
   "source": [
    "The following cell runs additional checks to your code. Please **don't write any code here**. Just leave it as it is."
   ]
  },
  {
   "cell_type": "code",
   "execution_count": 18,
   "metadata": {
    "deletable": false,
    "editable": false,
    "nbgrader": {
     "cell_type": "code",
     "checksum": "623696cb5a5b134895056bf093071f46",
     "grade": true,
     "grade_id": "cell-810afcf16120a6b1",
     "locked": true,
     "points": 0.75,
     "schema_version": 3,
     "solution": false,
     "task": false
    }
   },
   "outputs": [],
   "source": [
    "# LEAVE BLANK"
   ]
  },
  {
   "cell_type": "markdown",
   "metadata": {},
   "source": [
    "Let's further filter down these data. Some of the columns store very similar data. For example, lots of the columns refer to *PHYSICAL FORCE USED BY OFFICER*. Since we are not interested in the specific form of force used, but rather on the existence of such force, let's aggregate the information for these columns.\n",
    "\n",
    "<div class=\"alert alert-warning\">You can create a new column with a conditional statement for other columns by using the function where() from numpy library and writing the corresponding condition in between parenthesis. The library has already been imported for you. You can choose to use it, if you want to use this function or. alternatively, to ignore if you come up with another way to create the new column.</div>\n",
    "\n",
    "<div class=\"alert alert-info\"><b>Exercise 4 </b>Write the code to create a new column called <i>physical_force</i>. This column should take the value 1 in <b>int</b> form if any of the columns <i>pf_hands</i>, <i>pf_wall</i>, <i>pf_grnd</i>, <i>pf_drwep</i>, <i>pf_ptwep</i>, <i>pf_baton</i>, <i>pf_hcuff</i>, <i>pf_pepsp</i> or <i>pf_other</i> is encoded as \"Y\", meaning that the corresponding force was used. Otherwise, the new column should take the value 0 in <b>int</b> form.</div>"
   ]
  },
  {
   "cell_type": "code",
   "execution_count": 98,
   "metadata": {
    "deletable": false,
    "nbgrader": {
     "cell_type": "code",
     "checksum": "95f42a2f3c024cb9c13194eee572db77",
     "grade": false,
     "grade_id": "cell-ccfa8a62ed7be845",
     "locked": false,
     "schema_version": 3,
     "solution": true,
     "task": false
    }
   },
   "outputs": [],
   "source": [
    "# YOUR CODE HERE\n",
    "import numpy as np\n",
    "physical_force=[]\n",
    "\n",
    "for hands,wall,grnd,drwep,ptwep,baton,hcuff,pepsp,other in zip(df['pf_hands'],df['pf_wall'], df['pf_grnd'], df['pf_drwep'], df['pf_ptwep'], df['pf_baton'], df['pf_hcuff'], df['pf_pepsp'], df['pf_other']):\n",
    "    if hands=='Y' or wall=='Y' or grnd=='Y' or drwep=='Y' or ptwep=='Y' or baton=='Y' or hcuff=='Y' or pepsp=='Y' or other=='Y':\n",
    "        physical_force.append(1)\n",
    "    else:\n",
    "        physical_force.append(0)\n",
    "        \n",
    "df.loc[:,'physical_force']=physical_force"
   ]
  },
  {
   "cell_type": "markdown",
   "metadata": {
    "deletable": false,
    "editable": false,
    "nbgrader": {
     "cell_type": "markdown",
     "checksum": "d1d109682b9ac4d7a1ca1e1d18dd8729",
     "grade": false,
     "grade_id": "cell-3af5b10a2fa3f49f",
     "locked": true,
     "schema_version": 3,
     "solution": false,
     "task": false
    }
   },
   "source": [
    "The following cell runs additional checks to your code. Please **don't write any code here**. Just leave it as it is."
   ]
  },
  {
   "cell_type": "code",
   "execution_count": 20,
   "metadata": {
    "deletable": false,
    "editable": false,
    "nbgrader": {
     "cell_type": "code",
     "checksum": "06547ef1505f1ca2858c1989221dca21",
     "grade": true,
     "grade_id": "cell-46153d7729ffbef3",
     "locked": true,
     "points": 0.75,
     "schema_version": 3,
     "solution": false,
     "task": false
    }
   },
   "outputs": [],
   "source": [
    "# LEAVE BLANK"
   ]
  },
  {
   "cell_type": "markdown",
   "metadata": {
    "deletable": false,
    "editable": false,
    "nbgrader": {
     "cell_type": "markdown",
     "checksum": "254cf10bbeeb78fbe30e8a840f50026d",
     "grade": false,
     "grade_id": "cell-c4ae57fb82c91f86",
     "locked": true,
     "schema_version": 3,
     "solution": false,
     "task": false
    }
   },
   "source": [
    "The same thing happens with a set of columns that contain the phrase WAS A - FOUND ON SUSPECT ?. Once again, we are not interested in the actual type of weapon found, but on whether a weapon was indeed found on the suspect. Hence, let's aggregate all these data into a single column.\n",
    "\n",
    "<div class=\"alert alert-info\"><b>Exercise 5 </b>Write the code to create a new column called <i>weapons</i>. This column should take the value 1 in <b>int</b> form if any of the columns <i>pistol</i>, <i>riflshot</i>, <i>asltweap</i>, <i>knifcuti</i>, <i>machgun</i> or <i>othrweap</i> is encoded as \"Y\", meaning that some weapon was found on the suspect. Otherwise, the new column should take the value 0 in <b>int</b> form. As before, numpy has already been imported for you in case you want to use the <i>where</i> method.</div>"
   ]
  },
  {
   "cell_type": "code",
   "execution_count": 99,
   "metadata": {
    "deletable": false,
    "nbgrader": {
     "cell_type": "code",
     "checksum": "e4f18524eaad30e40ad1ea26cb7dba36",
     "grade": false,
     "grade_id": "cell-2288d1226defffb6",
     "locked": false,
     "schema_version": 3,
     "solution": true,
     "task": false
    }
   },
   "outputs": [],
   "source": [
    "# YOUR CODE HERE\n",
    "import numpy as np\n",
    "weapons=[]\n",
    "\n",
    "for pistol, riflshot, asltweap, knifcuti, machgun, othrweap in zip(df['pistol'], df['riflshot'], df['asltweap'], df['knifcuti'], df['machgun'], df['othrweap']):\n",
    "    if pistol=='Y' or riflshot=='Y' or asltweap=='Y' or knifcuti=='Y' or machgun=='Y' or othrweap=='Y':\n",
    "        weapons.append(1)\n",
    "    else:\n",
    "        weapons.append(0)\n",
    "\n",
    "df.loc[:,'weapons']=weapons\n"
   ]
  },
  {
   "cell_type": "markdown",
   "metadata": {
    "deletable": false,
    "editable": false,
    "nbgrader": {
     "cell_type": "markdown",
     "checksum": "af5f2115a2e7b403e7d8efc0474a7be0",
     "grade": false,
     "grade_id": "cell-0891998d2caecf33",
     "locked": true,
     "schema_version": 3,
     "solution": false,
     "task": false
    }
   },
   "source": [
    "The following cell runs additional checks to your code. Please **don't write any code here**. Just leave it as it is."
   ]
  },
  {
   "cell_type": "code",
   "execution_count": 22,
   "metadata": {
    "deletable": false,
    "editable": false,
    "nbgrader": {
     "cell_type": "code",
     "checksum": "e1fac41d88c6e25bb5101b4b04523395",
     "grade": true,
     "grade_id": "cell-ec0c22c3974b7be7",
     "locked": true,
     "points": 0.75,
     "schema_version": 3,
     "solution": false,
     "task": false
    }
   },
   "outputs": [],
   "source": [
    "# LEAVE BLANK"
   ]
  },
  {
   "cell_type": "markdown",
   "metadata": {
    "deletable": false,
    "editable": false,
    "nbgrader": {
     "cell_type": "markdown",
     "checksum": "779c2708e454f07b84aad1b88384f98f",
     "grade": false,
     "grade_id": "cell-fb913f211e129b29",
     "locked": true,
     "schema_version": 3,
     "solution": false,
     "task": false
    }
   },
   "source": [
    "Finally, let's also aggregate the data about whether an arrest was made. We'll consider that an arrest took place if an arrest was actually made or is a summons was issued, or both.\n",
    "\n",
    "<div class=\"alert alert-info\"><b>Exercise 6 </b>Write the code to create a new column called <i>arrest</i>. This column should take the value 1 in <b>int</b> form if any of the columns <i>arstmade</i> or <i>sumissue</i> is encoded as \"Y\", meaning that some weapon was found on the suspect. Otherwise, the new column should take the value 0 in <b>int</b> form. As before, numpy has already been imported for you in case you want to use the <i>where</i> method.</div>"
   ]
  },
  {
   "cell_type": "code",
   "execution_count": 100,
   "metadata": {
    "deletable": false,
    "nbgrader": {
     "cell_type": "code",
     "checksum": "e5c1c89cdaaa9f68b1f66f1a63f9ecee",
     "grade": false,
     "grade_id": "cell-c86edec4482b7a88",
     "locked": false,
     "schema_version": 3,
     "solution": true,
     "task": false
    }
   },
   "outputs": [],
   "source": [
    "# YOUR CODE HERE\n",
    "import numpy as np\n",
    "arrest=[]\n",
    "\n",
    "for arstmade, sumissue in zip(df['arstmade'], df['sumissue']):\n",
    "    if arstmade=='Y' or sumissue=='Y':\n",
    "        arrest.append(1)\n",
    "    else:\n",
    "        arrest.append(0)\n",
    "        \n",
    "df.loc[:,'arrest']=arrest"
   ]
  },
  {
   "cell_type": "markdown",
   "metadata": {
    "deletable": false,
    "editable": false,
    "nbgrader": {
     "cell_type": "markdown",
     "checksum": "18acd30b29c93b40d1cf11264223b605",
     "grade": false,
     "grade_id": "cell-b50834ba854f8a53",
     "locked": true,
     "schema_version": 3,
     "solution": false,
     "task": false
    }
   },
   "source": [
    "The following cell runs additional checks to your code. Please **don't write any code here**. Just leave it as it is."
   ]
  },
  {
   "cell_type": "code",
   "execution_count": 24,
   "metadata": {
    "deletable": false,
    "editable": false,
    "nbgrader": {
     "cell_type": "code",
     "checksum": "23feca685ffc7cd40668c0224d820e8e",
     "grade": true,
     "grade_id": "cell-daaaaf92feb202b7",
     "locked": true,
     "points": 0.5,
     "schema_version": 3,
     "solution": false,
     "task": false
    }
   },
   "outputs": [],
   "source": [
    "# LEAVE BLANK"
   ]
  },
  {
   "cell_type": "markdown",
   "metadata": {
    "deletable": false,
    "editable": false,
    "nbgrader": {
     "cell_type": "markdown",
     "checksum": "3a2423261ec2905c91653fade104cb15",
     "grade": false,
     "grade_id": "cell-9823873799a6afd9",
     "locked": true,
     "schema_version": 3,
     "solution": false,
     "task": false
    }
   },
   "source": [
    "Finally, let's remove redundant information.\n",
    "\n",
    "<div class=\"alert alert-info\"><b>Exercise 7 </b>Write the code to remove columns <i>pct</i>, <i>pf_hands</i>, <i>pf_wall</i>, <i>pf_grnd</i>, <i>pf_drwep</i>, <i>pf_ptwep</i>, <i>pf_baton</i>, <i>pf_hcuff</i>, <i>pf_pepsp</i>, <i>pf_other</i>, <i>pistol</i>, <i>riflshot</i>, <i>asltweap</i>, <i>knifcuti</i>, <i>machgun</i>, <i>othrweap</i>, <i>arstmade</i> and <i>sumissue</i> from your DataFrame <i>df</i>.</div>\n",
    "\n",
    "<div class=\"alert alert-warning\">Make sure to double check that you remove all the columns above. At the end of this exercise your DataFrame should contain the columns you selected in exercise 2 plus the 4 new columns you created in exercises 4, 5, and 6, minus those listed above.</div>"
   ]
  },
  {
   "cell_type": "code",
   "execution_count": 101,
   "metadata": {
    "deletable": false,
    "nbgrader": {
     "cell_type": "code",
     "checksum": "3ed4e7311137a29575b84a60481a63ec",
     "grade": false,
     "grade_id": "cell-e5c707f2da86ad42",
     "locked": false,
     "schema_version": 3,
     "solution": true,
     "task": false
    }
   },
   "outputs": [],
   "source": [
    "# YOUR CODE HERE\n",
    "columns_to_drop = ['pct', 'pf_hands', 'pf_wall', \n",
    "                   'pf_grnd', 'pf_drwep', 'pf_ptwep', \n",
    "                   'pf_baton', 'pf_hcuff', 'pf_pepsp', \n",
    "                   'pf_other', 'pistol', 'riflshot', \n",
    "                   'asltweap', 'knifcuti', 'machgun', \n",
    "                   'othrweap', 'arstmade', 'sumissue']\n",
    "\n",
    "df.drop(columns_to_drop, axis=1, inplace=True)"
   ]
  },
  {
   "cell_type": "markdown",
   "metadata": {
    "deletable": false,
    "editable": false,
    "nbgrader": {
     "cell_type": "markdown",
     "checksum": "a50b03f424972dc515e8f57c364a9eb7",
     "grade": false,
     "grade_id": "cell-089198d2caecf33",
     "locked": true,
     "schema_version": 3,
     "solution": false,
     "task": false
    }
   },
   "source": [
    "The following cell runs additional checks to your code. Please **don't write any code here**. Just leave it as it is."
   ]
  },
  {
   "cell_type": "code",
   "execution_count": 27,
   "metadata": {
    "deletable": false,
    "editable": false,
    "nbgrader": {
     "cell_type": "code",
     "checksum": "80d65024cfd0bdff8afe9bee3a96edb8",
     "grade": true,
     "grade_id": "cell-ec0c22c3974b7e7",
     "locked": true,
     "points": 0.25,
     "schema_version": 3,
     "solution": false,
     "task": false
    }
   },
   "outputs": [],
   "source": [
    "# LEAVE BLANK"
   ]
  },
  {
   "cell_type": "markdown",
   "metadata": {
    "deletable": false,
    "editable": false,
    "nbgrader": {
     "cell_type": "markdown",
     "checksum": "575d7665d9127ae62c3f6e2118215e50",
     "grade": false,
     "grade_id": "cell-182a58b1f3a15db2",
     "locked": true,
     "schema_version": 3,
     "solution": false,
     "task": false
    }
   },
   "source": [
    "Now that we have aggregated the data for several columns and removed all the extra ones, the final thing left to do is to pre-process the <i>race</i> column. We will begin by changing the name of the column and we will then group  the different values of this column into larger categories. \n",
    "\n",
    "The meaning of each of the letter codes in the <i>race</i> column is shown below, as stated in the documentation provided by NYPD:\n",
    "\n",
    "- ' ' Not listed\n",
    "- 'A' Asian/Pacific Islander\n",
    "- 'B' Black\n",
    "- 'I' American Indian/Alaskan native\n",
    "- 'P' Black-Hispanic\n",
    "- 'Q' White-Hispanic\n",
    "- 'W' White\n",
    "- 'X' Unknown\n",
    "- 'Z' Other\n",
    "- 'U' Unknown\n",
    "\n",
    "<div class=\"alert alert-info\"><b>Exercise 8 </b>Write the code to rename the <i>race</i> column as <i>ethnicity</i>. Then write the code to modify the values of your <i>ethnicity</i> column. This column should take the value 'Black' if the original record was encoded as Black or Black-Hispanic. It should take the value 'White' if the original record was encoded as White or White-Hispanic. It should take the value 'Asian' if the original record was encoded as Asian/Pacific Islander. It should take the value 'Other' if the original record was encoded as American Indian/Alaskan native, Other, Unknown or Not listed.</div>\n",
    "\n",
    "<div class=\"alert alert-warning\">Make sure to check that by the end of this exercise your DataFrame contains no new columns. You can add them to help you, but make sure to remove them before moving on.</div>\n"
   ]
  },
  {
   "cell_type": "code",
   "execution_count": 102,
   "metadata": {
    "deletable": false,
    "nbgrader": {
     "cell_type": "code",
     "checksum": "859a4231530bfa246bf5ba2e1afe479a",
     "grade": false,
     "grade_id": "cell-f02815ee5d196ea1",
     "locked": false,
     "schema_version": 3,
     "solution": true,
     "task": false
    }
   },
   "outputs": [],
   "source": [
    "# YOUR CODE HERE\n",
    "ethnicity=[]\n",
    "\n",
    "for rac in df['race']:\n",
    "    if rac=='B' or rac=='P':\n",
    "        ethnicity.append('Black')\n",
    "    elif rac=='W' or rac=='Q':\n",
    "        ethnicity.append('White')\n",
    "    elif rac=='A':\n",
    "        ethnicity.append('Asian')\n",
    "    else:\n",
    "        ethnicity.append('Other')"
   ]
  },
  {
   "cell_type": "code",
   "execution_count": 103,
   "metadata": {},
   "outputs": [],
   "source": [
    "df.rename(columns={'race':'ethnicity'}, inplace=True)"
   ]
  },
  {
   "cell_type": "code",
   "execution_count": 104,
   "metadata": {},
   "outputs": [],
   "source": [
    "df['ethnicity']=ethnicity"
   ]
  },
  {
   "cell_type": "markdown",
   "metadata": {
    "deletable": false,
    "editable": false,
    "nbgrader": {
     "cell_type": "markdown",
     "checksum": "1aa666a5569f9755d1febae4731b6122",
     "grade": false,
     "grade_id": "cell-08198d2xecf33",
     "locked": true,
     "schema_version": 3,
     "solution": false,
     "task": false
    }
   },
   "source": [
    "The following cell runs additional checks to your code. Please **don't write any code here**. Just leave it as it is."
   ]
  },
  {
   "cell_type": "code",
   "execution_count": 32,
   "metadata": {
    "deletable": false,
    "editable": false,
    "nbgrader": {
     "cell_type": "code",
     "checksum": "ac2470f251c24859a16e25ec9422f761",
     "grade": true,
     "grade_id": "cell-484789e445b82b4b",
     "locked": true,
     "points": 1.5,
     "schema_version": 3,
     "solution": false,
     "task": false
    }
   },
   "outputs": [],
   "source": [
    "# LEAVE BLANK"
   ]
  },
  {
   "cell_type": "markdown",
   "metadata": {
    "deletable": false,
    "editable": false,
    "nbgrader": {
     "cell_type": "markdown",
     "checksum": "1d2acfd60fe2ceae4b234c8e22c84e17",
     "grade": false,
     "grade_id": "cell-896982c23c1c89db",
     "locked": true,
     "schema_version": 3,
     "solution": false,
     "task": false
    }
   },
   "source": [
    "At this point, it might be a good idea to save your DataFrame. This way, when working on the remaining exercises, you can just refer to this version instead of having to run all the previous code again."
   ]
  },
  {
   "cell_type": "markdown",
   "metadata": {
    "deletable": false,
    "editable": false,
    "nbgrader": {
     "cell_type": "markdown",
     "checksum": "84de5192a5000b0766c06835096926ec",
     "grade": false,
     "grade_id": "cell-73e52e24ad816f26",
     "locked": true,
     "schema_version": 3,
     "solution": false,
     "task": false
    }
   },
   "source": [
    "## Visualizing the data\n",
    "\n",
    "Now that we have finished preparing the data let's visualize it.\n",
    "\n",
    "The following exercises will each consist of two parts. The first part is focused on preparing the data and the second on plotting the data. Each part is evaluated separately. Meaning that you can still get the points for preparing the data even if you don't manage to plot it correctly.\n",
    "\n",
    "<div class=\"alert alert-info\"><b>Exercise 9 </b>Write the code to plot the total number of stops per year.<br/><ol><li>Write the code to store the x and y data for your plot in <b>list</b> form in new variables called <i>x</i> and <i>y</i>.</li>\n",
    "    <li>Write the code to plot these data using a <b>line</b> plot. Initialize your plot to a figure called <i>fig</i>. Set the line's color to red and the plot's title to <i>Number of people stopped</i>.</li></ol></div>\n",
    "    \n",
    "<img src='https://www.dropbox.com/s/kzl11tmze6kjvrf/ex9.png?raw=1' width=500>"
   ]
  },
  {
   "cell_type": "code",
   "execution_count": 105,
   "metadata": {},
   "outputs": [],
   "source": [
    "x=df['year'].unique().tolist()\n",
    "y=df.groupby(['year'])['ethnicity'].count()"
   ]
  },
  {
   "cell_type": "code",
   "execution_count": 106,
   "metadata": {
    "deletable": false,
    "nbgrader": {
     "cell_type": "code",
     "checksum": "8fad484b47171308eea09a2f606c38e9",
     "grade": false,
     "grade_id": "cell-7b7677b51c979926",
     "locked": false,
     "schema_version": 3,
     "solution": true,
     "task": false
    }
   },
   "outputs": [
    {
     "data": {
      "text/plain": [
       "Text(0.5, 1.0, 'Number of people stopped')"
      ]
     },
     "execution_count": 106,
     "metadata": {},
     "output_type": "execute_result"
    },
    {
     "data": {
      "image/png": "[encoded data removed]",
      "text/plain": [
       "<Figure size 720x432 with 1 Axes>"
      ]
     },
     "metadata": {
      "needs_background": "light"
     },
     "output_type": "display_data"
    }
   ],
   "source": [
    "# YOUR CODE HERE\n",
    "import matplotlib.pyplot as plt\n",
    "\n",
    "fig = plt.figure(figsize=(10,6))\n",
    "\n",
    "plt.plot(x, y, color='red')\n",
    "plt.title('Number of people stopped')"
   ]
  },
  {
   "cell_type": "markdown",
   "metadata": {
    "deletable": false,
    "editable": false,
    "nbgrader": {
     "cell_type": "markdown",
     "checksum": "332c7a171a97ce378afd3457fac9d10c",
     "grade": false,
     "grade_id": "cll-089198d2xecf33",
     "locked": true,
     "schema_version": 3,
     "solution": false,
     "task": false
    }
   },
   "source": [
    "The following cell runs additional checks to your code. Please **don't write any code here**. Just leave it as it is."
   ]
  },
  {
   "cell_type": "code",
   "execution_count": null,
   "metadata": {
    "deletable": false,
    "editable": false,
    "nbgrader": {
     "cell_type": "code",
     "checksum": "b0b250c22e612e12c64716e09e7413d9",
     "grade": true,
     "grade_id": "cell-e82073c04c68387e",
     "locked": true,
     "points": 0.5,
     "schema_version": 3,
     "solution": false,
     "task": false
    }
   },
   "outputs": [],
   "source": [
    "# LEAVE BLANK"
   ]
  },
  {
   "cell_type": "code",
   "execution_count": null,
   "metadata": {
    "deletable": false,
    "editable": false,
    "nbgrader": {
     "cell_type": "code",
     "checksum": "b4baddfe8eeb0662106e4b8bdc8f9faa",
     "grade": true,
     "grade_id": "cell-c841252b7ebc44b1",
     "locked": true,
     "points": 0.5,
     "schema_version": 3,
     "solution": false,
     "task": false
    }
   },
   "outputs": [],
   "source": [
    "# LEAVE BLANK"
   ]
  },
  {
   "cell_type": "markdown",
   "metadata": {
    "deletable": false,
    "editable": false,
    "nbgrader": {
     "cell_type": "markdown",
     "checksum": "e18f275f061cc54b23e3995751a0a96f",
     "grade": false,
     "grade_id": "cell-55280e0ce5072144",
     "locked": true,
     "schema_version": 3,
     "solution": false,
     "task": false
    }
   },
   "source": [
    "<div class=\"alert alert-info\"><b>Exercise 10 </b>Write the code to plot the total number of stops per ethnicity for every year.<br/><ol><li>Write the code to store the x data for your plot in <b>list</b> form in a new variable called <i>x</i>. Store the y data for your plot in <b>list</b> form in separate variables called <i>y_black</i>, <i>y_white</i>, <i>y_asian</i> and <i>y_other</i>.</li>\n",
    "    <li>Write the code to plot these data using a <b>line</b> plot. Initialize your plot to a figure called <i>fig</i>. Set the line's color for \"Black\" to red, for \"White\" to black, for \"Asian\" to darkgray and for \"Other\" to lightgray. Set the plot's title to <i>Number of people stopped by ethnicity</i>. Make sure a legend appears to the <b>upper left</b> of your plot and that the labels in the legend correspond <b>exactly</b> to the different categories of the <i>ethnicity</i> attribute.</li></ol></div>\n",
    "    \n",
    "<img src='https://www.dropbox.com/s/kzl11tmze6kjvrf/ex10.png?raw=1' width=500>"
   ]
  },
  {
   "cell_type": "code",
   "execution_count": 107,
   "metadata": {
    "deletable": false,
    "nbgrader": {
     "cell_type": "code",
     "checksum": "1e9d34a4b59f499ccaac6c646d63871f",
     "grade": false,
     "grade_id": "cell-b7b626b4a3bd1fca",
     "locked": false,
     "schema_version": 3,
     "solution": true,
     "task": false
    }
   },
   "outputs": [],
   "source": [
    "# YOUR CODE HERE\n",
    "x=df['year'].unique().tolist()\n",
    "y_black=df[df['ethnicity']=='Black'].groupby('year')['ethnicity'].count().tolist()\n",
    "y_white=df[df['ethnicity']=='White'].groupby('year')['ethnicity'].count().tolist()\n",
    "y_asian=df[df['ethnicity']=='Asian'].groupby('year')['ethnicity'].count().tolist()\n",
    "y_other=df[df['ethnicity']=='Other'].groupby('year')['ethnicity'].count().tolist()"
   ]
  },
  {
   "cell_type": "code",
   "execution_count": 108,
   "metadata": {},
   "outputs": [
    {
     "data": {
      "text/plain": [
       "<matplotlib.legend.Legend at 0x1e55c2681f0>"
      ]
     },
     "execution_count": 108,
     "metadata": {},
     "output_type": "execute_result"
    },
    {
     "data": {
      "image/png": "[encoded data removed]",
      "text/plain": [
       "<Figure size 720x432 with 1 Axes>"
      ]
     },
     "metadata": {
      "needs_background": "light"
     },
     "output_type": "display_data"
    }
   ],
   "source": [
    "import matplotlib.pyplot as plt\n",
    "\n",
    "fig = plt.figure(figsize=(10,6))\n",
    "\n",
    "plt.plot(x, y_black, color='red', label='Black')\n",
    "plt.plot(x, y_white, color='black', label='White')\n",
    "plt.plot(x, y_asian, color='darkgray', label='Asian')\n",
    "plt.plot(x, y_other, color='lightgray', label='Other')\n",
    "plt.title('Number of people stopped by ethnicity')\n",
    "plt.legend(loc='upper left')"
   ]
  },
  {
   "cell_type": "markdown",
   "metadata": {
    "deletable": false,
    "editable": false,
    "nbgrader": {
     "cell_type": "markdown",
     "checksum": "6048d994283ce0a2def75ee740de6958",
     "grade": false,
     "grade_id": "cell-089198d2xecf33",
     "locked": true,
     "schema_version": 3,
     "solution": false,
     "task": false
    }
   },
   "source": [
    "The following cell runs additional checks to your code. Please **don't write any code here**. Just leave it as it is."
   ]
  },
  {
   "cell_type": "code",
   "execution_count": null,
   "metadata": {
    "deletable": false,
    "editable": false,
    "nbgrader": {
     "cell_type": "code",
     "checksum": "f36e39c55f727c88b0b040ba45f40a41",
     "grade": true,
     "grade_id": "cell-e82073c0387e",
     "locked": true,
     "points": 0.75,
     "schema_version": 3,
     "solution": false,
     "task": false
    }
   },
   "outputs": [],
   "source": [
    "# LEAVE BLANK"
   ]
  },
  {
   "cell_type": "code",
   "execution_count": null,
   "metadata": {
    "deletable": false,
    "editable": false,
    "nbgrader": {
     "cell_type": "code",
     "checksum": "ca4e22c6499f5c0c79ae0fb4af7e192e",
     "grade": true,
     "grade_id": "cell-c841252b7e",
     "locked": true,
     "points": 0.5,
     "schema_version": 3,
     "solution": false,
     "task": false
    }
   },
   "outputs": [],
   "source": [
    "# LEAVE BLANK"
   ]
  },
  {
   "cell_type": "code",
   "execution_count": null,
   "metadata": {
    "deletable": false,
    "editable": false,
    "nbgrader": {
     "cell_type": "code",
     "checksum": "1164c694bf708d0ecd7c13de4bef29a4",
     "grade": true,
     "grade_id": "cell-cad4caea5a41b815",
     "locked": true,
     "points": 0.25,
     "schema_version": 3,
     "solution": false,
     "task": false
    }
   },
   "outputs": [],
   "source": [
    "# LEAVE BLANK"
   ]
  },
  {
   "cell_type": "markdown",
   "metadata": {
    "deletable": false,
    "editable": false,
    "nbgrader": {
     "cell_type": "markdown",
     "checksum": "563b4778b8cb2438a48c890359f48a01",
     "grade": false,
     "grade_id": "cell-2acc7b7d40dae159",
     "locked": true,
     "schema_version": 3,
     "solution": false,
     "task": false
    }
   },
   "source": [
    "For those people who where initially stopped, let's now take a look at the percentage that got arrested. \n",
    "\n",
    "<div class=\"alert alert-info\"><b>Exercise 11 </b>Write the code to plot the percentage of arrests per ethnicity for every year.<br/><ol><li>Write the code to store the x data for your plot in <b>list</b> form in a new variable called <i>x</i>. Store the y data for your plot in <b>list</b> form in separate variables called <i>y_black_arrested</i>, <i>y_white_arrested</i>, <i>y_asian_arrested</i> and <i>y_other_arrested</i>. These values should show the percentage of arrested individuals with respect to the number of stopped people, for each listed race.</li>\n",
    "    <li>Write the code to plot these data using a <b>scatter</b> plot. Initialize your plot to a figure called <i>fig</i>. Set the line's color for \"Black\" to red, for \"White\" to black, for \"Asian\" to darkgray and for \"Other\" to lightgray. Set the plot's title to <i>Percentage of people arrested by ethnicity</i>. Make sure a legend appears to the <b>lower right</b> of your plot and that the labels in the legend correspond to the different categories of the <i>ethnicity</i> attribute.</li></ol></div>\n",
    "\n",
    "<div class=\"alert alert-warning\">Make sure the percentages are properly encoded. Meaning that if the percentage is 1%, the corresponding list should include a 1, not a 0.01</div>\n",
    "\n",
    "<img src='https://www.dropbox.com/s/az9a49wd5k8ppxz/ex11.png?raw=1' width=500>"
   ]
  },
  {
   "cell_type": "code",
   "execution_count": 109,
   "metadata": {
    "deletable": false,
    "nbgrader": {
     "cell_type": "code",
     "checksum": "7358255295a6139d5869e476e1899961",
     "grade": false,
     "grade_id": "cell-b116f3e9626f8ea1",
     "locked": false,
     "schema_version": 3,
     "solution": true,
     "task": false
    }
   },
   "outputs": [],
   "source": [
    "# YOUR CODE HERE\n",
    "x=df['year'].unique().tolist()\n",
    "y_black_arrested=(100*(df[(df['ethnicity']=='Black') & (df['arrest']== 1)].groupby('year')['ethnicity'].count())/(df[df['ethnicity']=='Black'].groupby('year')['ethnicity'].count())).tolist()\n",
    "y_white_arrested=(100*(df[(df['ethnicity']=='White') & (df['arrest']== 1)].groupby('year')['ethnicity'].count())/(df[df['ethnicity']=='White'].groupby('year')['ethnicity'].count())).tolist()\n",
    "y_asian_arrested=(100*(df[(df['ethnicity']=='Asian') & (df['arrest']== 1)].groupby('year')['ethnicity'].count())/(df[df['ethnicity']=='Asian'].groupby('year')['ethnicity'].count())).tolist()\n",
    "y_other_arrested=(100*(df[(df['ethnicity']=='Other') & (df['arrest']== 1)].groupby('year')['ethnicity'].count())/(df[df['ethnicity']=='Other'].groupby('year')['ethnicity'].count())).tolist()"
   ]
  },
  {
   "cell_type": "code",
   "execution_count": 110,
   "metadata": {},
   "outputs": [
    {
     "data": {
      "text/plain": [
       "<matplotlib.legend.Legend at 0x1e46ee08550>"
      ]
     },
     "execution_count": 110,
     "metadata": {},
     "output_type": "execute_result"
    },
    {
     "data": {
      "image/png": "[encoded data removed]",
      "text/plain": [
       "<Figure size 720x432 with 1 Axes>"
      ]
     },
     "metadata": {
      "needs_background": "light"
     },
     "output_type": "display_data"
    }
   ],
   "source": [
    "fig = plt.figure(figsize=(10,6))\n",
    "\n",
    "plt.scatter(x, y_black_arrested, color='red', label='Black')\n",
    "plt.scatter(x, y_white_arrested, color='black', label='White')\n",
    "plt.scatter(x, y_asian_arrested, color='darkgray', label='Asian')\n",
    "plt.scatter(x, y_other_arrested, color='lightgray', label='Other')\n",
    "plt.title('Percentage of people arrested by ethnicity')\n",
    "plt.legend(loc='lower right')"
   ]
  },
  {
   "cell_type": "markdown",
   "metadata": {
    "deletable": false,
    "editable": false,
    "nbgrader": {
     "cell_type": "markdown",
     "checksum": "31b51f69f2cfcc64ab6c572846b5188a",
     "grade": false,
     "grade_id": "cell9198d2xecf33",
     "locked": true,
     "schema_version": 3,
     "solution": false,
     "task": false
    }
   },
   "source": [
    "The following cell runs additional checks to your code. Please **don't write any code here**. Just leave it as it is."
   ]
  },
  {
   "cell_type": "code",
   "execution_count": null,
   "metadata": {
    "deletable": false,
    "editable": false,
    "nbgrader": {
     "cell_type": "code",
     "checksum": "4b42fa6b5ff8174f864a755e7408f570",
     "grade": true,
     "grade_id": "cell-e82073c038",
     "locked": true,
     "points": 1,
     "schema_version": 3,
     "solution": false,
     "task": false
    }
   },
   "outputs": [],
   "source": [
    "# LEAVE BLANK"
   ]
  },
  {
   "cell_type": "code",
   "execution_count": null,
   "metadata": {
    "deletable": false,
    "editable": false,
    "nbgrader": {
     "cell_type": "code",
     "checksum": "bc477f64f40d58b97a490036b1ad0503",
     "grade": true,
     "grade_id": "cell-a5eebd2e7ef22e27",
     "locked": true,
     "points": 0.75,
     "schema_version": 3,
     "solution": false,
     "task": false
    }
   },
   "outputs": [],
   "source": [
    "# LEAVE BLANK"
   ]
  },
  {
   "cell_type": "code",
   "execution_count": null,
   "metadata": {
    "deletable": false,
    "editable": false,
    "nbgrader": {
     "cell_type": "code",
     "checksum": "4faabb0b312f0a8357b98f40a39b4a30",
     "grade": true,
     "grade_id": "cell-4537374d8af4df14",
     "locked": true,
     "points": 0.25,
     "schema_version": 3,
     "solution": false,
     "task": false
    }
   },
   "outputs": [],
   "source": [
    "# LEAVE BLANK"
   ]
  },
  {
   "cell_type": "markdown",
   "metadata": {
    "deletable": false,
    "editable": false,
    "nbgrader": {
     "cell_type": "markdown",
     "checksum": "7fd9ffc61f82598afdc4fcdf2a968c73",
     "grade": false,
     "grade_id": "cell-1a58acf09688e2ce",
     "locked": true,
     "schema_version": 3,
     "solution": false,
     "task": false
    }
   },
   "source": [
    "## Bonus exercise\n",
    "\n",
    "For the bonus exercises, we will take a look at the remaining data.\n",
    "\n",
    "We will begin by analising the percentage of individuals who were carrying a weapon when found and those for whom the police used physical force among those who where initially stopped.\n",
    "\n",
    "<div class=\"alert alert-danger\"><b>Bonus 1 </b>Write the code to plot the percentage of people who where found carrying a weapon and the percentage of people with whom the police used physical force per ethnicity for every year.<br/><ol><li>Write the code to store the x data for your plot in <b>list</b> form in a new variable called <i>x</i>. Store the y data for your plot in <b>list</b> form in separate variables called <i>y_black_weapon</i>, <i>y_white_weapon</i>, <i>y_asian_weapon</i>, <i>y_other_weapon</i>, <i>y_black_physical_force</i>, <i>y_white_physical_force</i>, <i>y_asian_physical_force</i> and <i>y_other_physical_force</i>. The first four lists should include the percentage of individuals who were found to carry a weapon with respect to the number of stopped people, for each listed ethnicity and for every year. The last four lists should include the percentage of individuals with whom the police used physical force with respect to the number of stopped people, for each listed ethnicity and for every year.</li>\n",
    "    <li>Write the code to plot these data using two different <b>line</b> plots. Initialize your plot to a figure called <i>fig</i>. Use two different subplots, one for each case. They should both appear side by side. Plot the <i>weapons</i> data to the left and the <i>physical_force</i> data to the right. Set the first plot's title to <i>Percentage of people found carrying a weapon by ethnicity</i> and second plot's title to <i>Percentage of people for which the police used physical force by ethnicity</i>. Set the line's color for \"Black\" to red, for \"White\" to black, for \"Asian\" to darkgray and for \"Other\" to lightgray for both plots. Use dashed lines for the <i>weapons</i> plot and dotted lines for the <i>physical_force</i> plot. Make sure a legend appears to the <b>upper left</b> of your <i>weapons</i> plot and to the <b>upper right</b> of your <i>physical_force</i> plot and that the labels correspond to the different categories of the <i>ethnicity</i> attribute in both cases.</li></ol></div>\n",
    "\n",
    "<div class=\"alert alert-warning\">Make sure the percentages are properly encoded. Meaning that if the percentage is 1%, the corresponding list should include a 1, not a 0.01</div>\n",
    "\n",
    "<img src='https://www.dropbox.com/s/4mjq080fb3pl0eb/b1.png?raw=1' width=800>"
   ]
  },
  {
   "cell_type": "code",
   "execution_count": 123,
   "metadata": {
    "deletable": false,
    "nbgrader": {
     "cell_type": "code",
     "checksum": "880ff70985683a5069719164c0230dbf",
     "grade": false,
     "grade_id": "cell-54d3f0f786953969",
     "locked": false,
     "schema_version": 3,
     "solution": true,
     "task": false
    }
   },
   "outputs": [],
   "source": [
    "# YOUR CODE HERE\n",
    "x=df['year'].unique().tolist()\n",
    "\n",
    "y_black_weapon=(100*(df[(df['ethnicity']=='Black') & (df['weapons']== 1)].groupby('year')['ethnicity'].count())/(df[df['ethnicity']=='Black'].groupby('year')['ethnicity'].count())).tolist()\n",
    "y_white_weapon=(100*(df[(df['ethnicity']=='White') & (df['weapons']== 1)].groupby('year')['ethnicity'].count())/(df[df['ethnicity']=='White'].groupby('year')['ethnicity'].count())).tolist()\n",
    "y_asian_weapon=(100*(df[(df['ethnicity']=='Asian') & (df['weapons']== 1)].groupby('year')['ethnicity'].count())/(df[df['ethnicity']=='Asian'].groupby('year')['ethnicity'].count())).tolist()\n",
    "y_other_weapon=(100*(df[(df['ethnicity']=='Other') & (df['weapons']== 1)].groupby('year')['ethnicity'].count())/(df[df['ethnicity']=='Other'].groupby('year')['ethnicity'].count())).tolist()\n",
    "\n",
    "y_black_physical_force=(100*(df[(df['ethnicity']=='Black') & (df['physical_force']== 1)].groupby('year')['ethnicity'].count()) / (df[df['ethnicity']=='Black'].groupby('year')['ethnicity'].count())).tolist()\n",
    "y_white_physical_force=(100*(df[(df['ethnicity']=='White') & (df['physical_force']== 1)].groupby('year')['ethnicity'].count()) / (df[df['ethnicity']=='White'].groupby('year')['ethnicity'].count())).tolist()\n",
    "y_asian_physical_force=(100*(df[(df['ethnicity']=='Asian') & (df['physical_force']== 1)].groupby('year')['ethnicity'].count()) / (df[df['ethnicity']=='Asian'].groupby('year')['ethnicity'].count())).tolist()\n",
    "y_other_physical_force=(100*(df[(df['ethnicity']=='Other') & (df['physical_force']== 1)].groupby('year')['ethnicity'].count()) / (df[df['ethnicity']=='Other'].groupby('year')['ethnicity'].count())).tolist()"
   ]
  },
  {
   "cell_type": "code",
   "execution_count": 124,
   "metadata": {},
   "outputs": [
    {
     "name": "stderr",
     "output_type": "stream",
     "text": [
      "<ipython-input-124-45c337797abf>:6: MatplotlibDeprecationWarning: Adding an axes using the same arguments as a previous axes currently reuses the earlier instance.  In a future version, a new instance will always be created and returned.  Meanwhile, this warning can be suppressed, and the future behavior ensured, by passing a unique label to each axes instance.\n",
      "  ax = plt.subplot(1,2,1)\n",
      "<ipython-input-124-45c337797abf>:8: MatplotlibDeprecationWarning: Adding an axes using the same arguments as a previous axes currently reuses the earlier instance.  In a future version, a new instance will always be created and returned.  Meanwhile, this warning can be suppressed, and the future behavior ensured, by passing a unique label to each axes instance.\n",
      "  ax = plt.subplot(1,2,1)\n",
      "<ipython-input-124-45c337797abf>:10: MatplotlibDeprecationWarning: Adding an axes using the same arguments as a previous axes currently reuses the earlier instance.  In a future version, a new instance will always be created and returned.  Meanwhile, this warning can be suppressed, and the future behavior ensured, by passing a unique label to each axes instance.\n",
      "  ax = plt.subplot(1,2,1)\n",
      "<ipython-input-124-45c337797abf>:18: MatplotlibDeprecationWarning: Adding an axes using the same arguments as a previous axes currently reuses the earlier instance.  In a future version, a new instance will always be created and returned.  Meanwhile, this warning can be suppressed, and the future behavior ensured, by passing a unique label to each axes instance.\n",
      "  ax = plt.subplot(1,2,2)\n",
      "<ipython-input-124-45c337797abf>:20: MatplotlibDeprecationWarning: Adding an axes using the same arguments as a previous axes currently reuses the earlier instance.  In a future version, a new instance will always be created and returned.  Meanwhile, this warning can be suppressed, and the future behavior ensured, by passing a unique label to each axes instance.\n",
      "  ax = plt.subplot(1,2,2)\n",
      "<ipython-input-124-45c337797abf>:22: MatplotlibDeprecationWarning: Adding an axes using the same arguments as a previous axes currently reuses the earlier instance.  In a future version, a new instance will always be created and returned.  Meanwhile, this warning can be suppressed, and the future behavior ensured, by passing a unique label to each axes instance.\n",
      "  ax = plt.subplot(1,2,2)\n"
     ]
    },
    {
     "data": {
      "text/plain": [
       "Text(0.5, 1.0, 'Percentage of people for which the police used physical force by ethnicity')"
      ]
     },
     "execution_count": 124,
     "metadata": {},
     "output_type": "execute_result"
    },
    {
     "data": {
      "image/png": "[encoded data removed]",
      "text/plain": [
       "<Figure size 1080x432 with 2 Axes>"
      ]
     },
     "metadata": {
      "needs_background": "light"
     },
     "output_type": "display_data"
    }
   ],
   "source": [
    "import matplotlib.pyplot as plt\n",
    "\n",
    "fig = plt.figure(figsize=(15,6))\n",
    "ax = plt.subplot(1,2,1)\n",
    "ax.plot(x, y_black_weapon, linestyle='dashed', color='red', label='Black')\n",
    "ax = plt.subplot(1,2,1)\n",
    "ax.plot(x, y_white_weapon, linestyle='dashed', color='black', label='White')\n",
    "ax = plt.subplot(1,2,1)\n",
    "ax.plot(x, y_asian_weapon, linestyle='dashed', color='darkgray', label='Asian')\n",
    "ax = plt.subplot(1,2,1)\n",
    "ax.plot(x, y_other_weapon, linestyle='dashed', color='lightgray', label='Other')\n",
    "\n",
    "ax.legend(loc='upper left')\n",
    "ax.set_title('Percentage of people found carrying a weapon by ethnicity')\n",
    "\n",
    "ax = plt.subplot(1,2,2)\n",
    "ax.plot(x, y_black_physical_force, linestyle='dotted', color='red', label='Black')\n",
    "ax = plt.subplot(1,2,2)\n",
    "ax.plot(x, y_white_physical_force, linestyle='dotted', color='black', label='White')\n",
    "ax = plt.subplot(1,2,2)\n",
    "ax.plot(x, y_asian_physical_force, linestyle='dotted', color='darkgray', label='Asian')\n",
    "ax = plt.subplot(1,2,2)\n",
    "ax.plot(x, y_other_physical_force, linestyle='dotted', color='lightgray', label='Other')\n",
    "\n",
    "ax.legend(loc='upper right')\n",
    "ax.set_title('Percentage of people for which the police used physical force by ethnicity')"
   ]
  },
  {
   "cell_type": "markdown",
   "metadata": {
    "deletable": false,
    "editable": false,
    "nbgrader": {
     "cell_type": "markdown",
     "checksum": "0b52161ba4cf54a502a6e934b1a08de5",
     "grade": false,
     "grade_id": "cell9198d2xecf3",
     "locked": true,
     "schema_version": 3,
     "solution": false,
     "task": false
    }
   },
   "source": [
    "The following cell runs additional checks to your code. Please **don't write any code here**. Just leave it as it is."
   ]
  },
  {
   "cell_type": "code",
   "execution_count": null,
   "metadata": {
    "deletable": false,
    "editable": false,
    "nbgrader": {
     "cell_type": "code",
     "checksum": "390d4248bbd7cb7cc54a8461c74585b0",
     "grade": true,
     "grade_id": "cell-f1ab301ad6231ac1",
     "locked": true,
     "points": 0.1,
     "schema_version": 3,
     "solution": false,
     "task": false
    }
   },
   "outputs": [],
   "source": [
    "# LEAVE BLANK"
   ]
  },
  {
   "cell_type": "code",
   "execution_count": null,
   "metadata": {
    "deletable": false,
    "editable": false,
    "nbgrader": {
     "cell_type": "code",
     "checksum": "26fe63f6a2c7a78651cb493107ff0fad",
     "grade": true,
     "grade_id": "cell-e82073038",
     "locked": true,
     "points": 0.45,
     "schema_version": 3,
     "solution": false,
     "task": false
    }
   },
   "outputs": [],
   "source": [
    "# LEAVE BLANK"
   ]
  },
  {
   "cell_type": "code",
   "execution_count": null,
   "metadata": {
    "deletable": false,
    "editable": false,
    "nbgrader": {
     "cell_type": "code",
     "checksum": "9ca8751979fecaae2a06282a35c6df4b",
     "grade": true,
     "grade_id": "cell-d4e875ec8ed45f43",
     "locked": true,
     "points": 0.45,
     "schema_version": 3,
     "solution": false,
     "task": false
    }
   },
   "outputs": [],
   "source": [
    "# LEAVE BLANK"
   ]
  },
  {
   "cell_type": "code",
   "execution_count": null,
   "metadata": {
    "deletable": false,
    "editable": false,
    "nbgrader": {
     "cell_type": "code",
     "checksum": "8d1ad4dca9b91430877903e92f08a1a6",
     "grade": true,
     "grade_id": "cell-b6cea64053c72401",
     "locked": true,
     "points": 0.1,
     "schema_version": 3,
     "solution": false,
     "task": false
    }
   },
   "outputs": [],
   "source": [
    "# LEAVE BLANK"
   ]
  },
  {
   "cell_type": "code",
   "execution_count": null,
   "metadata": {
    "deletable": false,
    "editable": false,
    "nbgrader": {
     "cell_type": "code",
     "checksum": "25a600379da745ebd61e81bb01e3ca61",
     "grade": true,
     "grade_id": "cell-c500fb453b72e7b3",
     "locked": true,
     "points": 0.3,
     "schema_version": 3,
     "solution": false,
     "task": false
    }
   },
   "outputs": [],
   "source": [
    "# LEAVE BLANK"
   ]
  },
  {
   "cell_type": "code",
   "execution_count": null,
   "metadata": {
    "deletable": false,
    "editable": false,
    "nbgrader": {
     "cell_type": "code",
     "checksum": "31ec8048f7342a61d10d1de3374460e0",
     "grade": true,
     "grade_id": "cell-e3a08ce79e32c350",
     "locked": true,
     "points": 0.3,
     "schema_version": 3,
     "solution": false,
     "task": false
    }
   },
   "outputs": [],
   "source": [
    "# LEAVE BLANK"
   ]
  },
  {
   "cell_type": "code",
   "execution_count": null,
   "metadata": {
    "deletable": false,
    "editable": false,
    "nbgrader": {
     "cell_type": "code",
     "checksum": "1870d1c954482c2d763526bd08efc411",
     "grade": true,
     "grade_id": "cell-932c81bbe171b3c8",
     "locked": true,
     "points": 0.15,
     "schema_version": 3,
     "solution": false,
     "task": false
    }
   },
   "outputs": [],
   "source": [
    "# LEAVE BLANK"
   ]
  },
  {
   "cell_type": "code",
   "execution_count": null,
   "metadata": {
    "deletable": false,
    "editable": false,
    "nbgrader": {
     "cell_type": "code",
     "checksum": "3eaea3110a0a437229c2ded517f103de",
     "grade": true,
     "grade_id": "cell-8a74c58264778024",
     "locked": true,
     "points": 0.15,
     "schema_version": 3,
     "solution": false,
     "task": false
    }
   },
   "outputs": [],
   "source": [
    "# LEAVE BLANK"
   ]
  },
  {
   "cell_type": "markdown",
   "metadata": {
    "deletable": false,
    "editable": false,
    "nbgrader": {
     "cell_type": "markdown",
     "checksum": "97354043f471d818785c0f8f33b884ef",
     "grade": false,
     "grade_id": "cell-607ac9ca0cf526b9",
     "locked": true,
     "schema_version": 3,
     "solution": false,
     "task": false
    }
   },
   "source": [
    "<div class=\"alert alert-danger\"><b>Bonus 2 </b>Write the code to plot the total number of stops per borough for every year.<br/><ol><li>Write the code to store the x data for your plot in <b>list</b> form in a new variable called <i>x</i>. Store the y data for your plot in <b>list</b> form in separate variables called <i>y_manhattan</i>, <i>y_brooklyn</i>, <i>y_bronx</i>, <i>y_queens</i> and <i>y_staten_island</i>.</li>\n",
    "<li>Write the code to plot these data using a stacked bar plot. Initialize your plot to a figure called <i>fig</i>. Set the bar's color for \"Manhattan\" to e63946, for \"Brooklyn\" to f1faee, for \"Bronx\" to a8dadc, for \"Queens\" to 457b9d and for \"Staten Island\" to 1d3557. Set the plot's title to <i>People stopped by borough</i>. Make sure a legend appears to the <b>upper left</b> of your plot and that the labels in the legend correspond to the different categories of the <i>boro</i> attribute.</li></ol></div>\n",
    "\n",
    "<img src='https://www.dropbox.com/s/kmsggqo58s7gnja/b2.png?raw=1' width=500>"
   ]
  },
  {
   "cell_type": "code",
   "execution_count": 118,
   "metadata": {
    "deletable": false,
    "nbgrader": {
     "cell_type": "code",
     "checksum": "71fc34c8075b9df0092fb42ebb472af4",
     "grade": false,
     "grade_id": "cell-1f850f21680502c4",
     "locked": false,
     "schema_version": 3,
     "solution": true,
     "task": false
    }
   },
   "outputs": [],
   "source": [
    "# YOUR CODE HERE\n",
    "x=df['year'].unique().tolist()\n",
    "\n",
    "y_manhattan = df[df['boro']=='Manhattan'].groupby('year')['boro'].count().tolist()\n",
    "y_brooklyn = df[df['boro']=='Brooklyn'].groupby('year')['boro'].count().tolist()\n",
    "y_bronx = df[df['boro']=='Bronx'].groupby('year')['boro'].count().tolist()\n",
    "y_queens = df[df['boro']=='Queens'].groupby('year')['boro'].count().tolist()\n",
    "y_staten_island = df[df['boro']=='Staten Island'].groupby('year')['boro'].count().tolist()\n",
    "\n",
    "\n",
    "fig = pd.DataFrame({\n",
    "    'Manhattan':y_manhattan,\n",
    "    'Brooklyn':y_brooklyn,\n",
    "    'Bronx':y_bronx,\n",
    "    'Queens':y_queens,\n",
    "    'Staten Island':y_staten_island\n",
    "    }, \n",
    "    index=x\n",
    ")"
   ]
  },
  {
   "cell_type": "code",
   "execution_count": 119,
   "metadata": {},
   "outputs": [
    {
     "data": {
      "text/plain": [
       "<matplotlib.legend.Legend at 0x1e476442cd0>"
      ]
     },
     "execution_count": 119,
     "metadata": {},
     "output_type": "execute_result"
    },
    {
     "data": {
      "image/png": "[encoded data removed]",
      "text/plain": [
       "<Figure size 720x432 with 1 Axes>"
      ]
     },
     "metadata": {
      "needs_background": "light"
     },
     "output_type": "display_data"
    }
   ],
   "source": [
    "import matplotlib.pyplot as plt\n",
    "\n",
    "fig.plot(kind='bar', stacked=True, figsize=(10,6), color=['#e63946','#f1faee','#a8dadc','#457b9d','#1d3557'])\n",
    "plt.title(\"People stopped by borough\")\n",
    "plt.legend(loc='upper left')"
   ]
  },
  {
   "cell_type": "markdown",
   "metadata": {
    "deletable": false,
    "editable": false,
    "nbgrader": {
     "cell_type": "markdown",
     "checksum": "f098d13714d5628326d66e97359755be",
     "grade": false,
     "grade_id": "cell919xecf3",
     "locked": true,
     "schema_version": 3,
     "solution": false,
     "task": false
    }
   },
   "source": [
    "The following cell runs additional checks to your code. Please **don't write any code here**. Just leave it as it is."
   ]
  },
  {
   "cell_type": "code",
   "execution_count": null,
   "metadata": {
    "deletable": false,
    "editable": false,
    "nbgrader": {
     "cell_type": "code",
     "checksum": "c62cbe7e2138e869fc5da8688d38587f",
     "grade": true,
     "grade_id": "cell-94b1e76c3938b1b5",
     "locked": true,
     "points": 1,
     "schema_version": 3,
     "solution": false,
     "task": false
    }
   },
   "outputs": [],
   "source": [
    "# LEAVE BLANK"
   ]
  },
  {
   "cell_type": "code",
   "execution_count": null,
   "metadata": {
    "deletable": false,
    "editable": false,
    "nbgrader": {
     "cell_type": "code",
     "checksum": "1c6cbc0b807216968fc9e0334895bd49",
     "grade": true,
     "grade_id": "cell-ffb0872ab759ec5d",
     "locked": true,
     "points": 1.25,
     "schema_version": 3,
     "solution": false,
     "task": false
    }
   },
   "outputs": [],
   "source": [
    "# LEAVE BLANK"
   ]
  },
  {
   "cell_type": "code",
   "execution_count": null,
   "metadata": {
    "deletable": false,
    "editable": false,
    "nbgrader": {
     "cell_type": "code",
     "checksum": "340f94ccf8fdfb4183133965ed4b87dd",
     "grade": true,
     "grade_id": "cell-0e1c6d71b175b2c3",
     "locked": true,
     "points": 0.25,
     "schema_version": 3,
     "solution": false,
     "task": false
    }
   },
   "outputs": [],
   "source": [
    "# LEAVE BLANK"
   ]
  }
 ],
 "metadata": {
  "kernelspec": {
   "display_name": "Python 3",
   "language": "python",
   "name": "python3"
  },
  "language_info": {
   "codemirror_mode": {
    "name": "ipython",
    "version": 3
   },
   "file_extension": ".py",
   "mimetype": "text/x-python",
   "name": "python",
   "nbconvert_exporter": "python",
   "pygments_lexer": "ipython3",
   "version": "3.8.5"
  }
 },
 "nbformat": 4,
 "nbformat_minor": 4
}
